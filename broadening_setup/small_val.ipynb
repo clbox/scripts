{
 "cells": [
  {
   "cell_type": "code",
   "execution_count": 1,
   "metadata": {},
   "outputs": [],
   "source": [
    "import numpy as np"
   ]
  },
  {
   "cell_type": "code",
   "execution_count": null,
   "metadata": {},
   "outputs": [],
   "source": []
  },
  {
   "cell_type": "code",
   "execution_count": 2,
   "metadata": {},
   "outputs": [],
   "source": [
    "import os\n",
    "val = 20"
   ]
  },
  {
   "cell_type": "code",
   "execution_count": 3,
   "metadata": {},
   "outputs": [],
   "source": [
    "\n",
    "y=[1.0]*val"
   ]
  },
  {
   "cell_type": "code",
   "execution_count": 4,
   "metadata": {},
   "outputs": [
    {
     "name": "stdout",
     "output_type": "stream",
     "text": [
      "[1.0, 1.0, 1.0, 1.0, 1.0, 1.0, 1.0, 1.0, 1.0, 1.0, 1.0, 1.0, 1.0, 1.0, 1.0, 1.0, 1.0, 1.0, 1.0, 1.0]\n"
     ]
    }
   ],
   "source": [
    "\n",
    "print y\n"
   ]
  },
  {
   "cell_type": "code",
   "execution_count": 5,
   "metadata": {},
   "outputs": [
    {
     "name": "stdout",
     "output_type": "stream",
     "text": [
      "[1.0, 0.1, 0.010000000000000002, 0.0010000000000000002, 0.00010000000000000002, 1.0000000000000003e-05, 1.0000000000000004e-06, 1.0000000000000004e-07, 1.0000000000000005e-08, 1.0000000000000005e-09, 1.0000000000000006e-10, 1.0000000000000006e-11, 1.0000000000000006e-12, 1.0000000000000007e-13, 1.0000000000000008e-14, 1.0000000000000009e-15, 1.0000000000000008e-16, 1.000000000000001e-17, 1.000000000000001e-18, 1.000000000000001e-19]\n"
     ]
    }
   ],
   "source": [
    "for i in range(0,val):\n",
    "    y[i]=y[i]*0.1**i\n",
    "print y"
   ]
  },
  {
   "cell_type": "code",
   "execution_count": null,
   "metadata": {},
   "outputs": [],
   "source": []
  },
  {
   "cell_type": "code",
   "execution_count": 6,
   "metadata": {},
   "outputs": [
    {
     "name": "stdout",
     "output_type": "stream",
     "text": [
      "friction_broadening_width 1.0\n",
      "\n",
      "friction_broadening_width 0.1\n",
      "\n",
      "friction_broadening_width 0.01\n",
      "\n",
      "friction_broadening_width 0.001\n",
      "\n",
      "friction_broadening_width 0.0001\n",
      "\n",
      "friction_broadening_width 1e-05\n",
      "\n",
      "friction_broadening_width 1e-06\n",
      "\n",
      "friction_broadening_width 1e-07\n",
      "\n",
      "friction_broadening_width 1e-08\n",
      "\n",
      "friction_broadening_width 1e-09\n",
      "\n",
      "friction_broadening_width 1e-10\n",
      "\n",
      "friction_broadening_width 1e-11\n",
      "\n",
      "friction_broadening_width 1e-12\n",
      "\n",
      "friction_broadening_width 1e-13\n",
      "\n",
      "friction_broadening_width 1e-14\n",
      "\n",
      "friction_broadening_width 1e-15\n",
      "\n",
      "friction_broadening_width 1e-16\n",
      "\n",
      "friction_broadening_width 1e-17\n",
      "\n",
      "friction_broadening_width 1e-18\n",
      "\n",
      "friction_broadening_width 1e-19\n",
      "\n"
     ]
    }
   ],
   "source": [
    "with open('control.in', 'r') as f:\n",
    "    lines = f.readlines()\n",
    "f.close()\n",
    "for l, line in enumerate(lines):\n",
    "    if 'friction_broadening_width 0.6' in line:\n",
    "        for i in range(0,val):\n",
    "            line = 'friction_broadening_width ' + str(y[i]) + '\\n'\n",
    "            lines[29]=line \n",
    "            print line\n",
    "            if not os.path.exists(str(y[i])):\n",
    "                os.makedirs(str(y[i]))\n",
    "                out = open('./' + str(y[i]) + '/control.in', \"w\")\n",
    "                out.writelines(lines)\n"
   ]
  },
  {
   "cell_type": "code",
   "execution_count": null,
   "metadata": {},
   "outputs": [],
   "source": []
  },
  {
   "cell_type": "code",
   "execution_count": null,
   "metadata": {},
   "outputs": [],
   "source": []
  }
 ],
 "metadata": {
  "kernelspec": {
   "display_name": "Python 2",
   "language": "python",
   "name": "python2"
  },
  "language_info": {
   "codemirror_mode": {
    "name": "ipython",
    "version": 2
   },
   "file_extension": ".py",
   "mimetype": "text/x-python",
   "name": "python",
   "nbconvert_exporter": "python",
   "pygments_lexer": "ipython2",
   "version": "2.7.15"
  }
 },
 "nbformat": 4,
 "nbformat_minor": 2
}
