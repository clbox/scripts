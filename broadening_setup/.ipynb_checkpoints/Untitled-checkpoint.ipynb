{
 "cells": [
  {
   "cell_type": "code",
   "execution_count": 1,
   "metadata": {},
   "outputs": [],
   "source": [
    "import numpy as np"
   ]
  },
  {
   "cell_type": "code",
   "execution_count": 40,
   "metadata": {},
   "outputs": [],
   "source": []
  },
  {
   "cell_type": "code",
   "execution_count": 49,
   "metadata": {},
   "outputs": [],
   "source": [
    "import os\n"
   ]
  },
  {
   "cell_type": "code",
   "execution_count": 41,
   "metadata": {},
   "outputs": [],
   "source": [
    "x = range(1,101)\n",
    "y=[0]*100"
   ]
  },
  {
   "cell_type": "code",
   "execution_count": 42,
   "metadata": {},
   "outputs": [
    {
     "name": "stdout",
     "output_type": "stream",
     "text": [
      "[1, 2, 3, 4, 5, 6, 7, 8, 9, 10, 11, 12, 13, 14, 15, 16, 17, 18, 19, 20, 21, 22, 23, 24, 25, 26, 27, 28, 29, 30, 31, 32, 33, 34, 35, 36, 37, 38, 39, 40, 41, 42, 43, 44, 45, 46, 47, 48, 49, 50, 51, 52, 53, 54, 55, 56, 57, 58, 59, 60, 61, 62, 63, 64, 65, 66, 67, 68, 69, 70, 71, 72, 73, 74, 75, 76, 77, 78, 79, 80, 81, 82, 83, 84, 85, 86, 87, 88, 89, 90, 91, 92, 93, 94, 95, 96, 97, 98, 99, 100]\n",
      "[0, 0, 0, 0, 0, 0, 0, 0, 0, 0, 0, 0, 0, 0, 0, 0, 0, 0, 0, 0, 0, 0, 0, 0, 0, 0, 0, 0, 0, 0, 0, 0, 0, 0, 0, 0, 0, 0, 0, 0, 0, 0, 0, 0, 0, 0, 0, 0, 0, 0, 0, 0, 0, 0, 0, 0, 0, 0, 0, 0, 0, 0, 0, 0, 0, 0, 0, 0, 0, 0, 0, 0, 0, 0, 0, 0, 0, 0, 0, 0, 0, 0, 0, 0, 0, 0, 0, 0, 0, 0, 0, 0, 0, 0, 0, 0, 0, 0, 0, 0]\n"
     ]
    }
   ],
   "source": [
    "print x\n",
    "print y"
   ]
  },
  {
   "cell_type": "code",
   "execution_count": 43,
   "metadata": {},
   "outputs": [
    {
     "name": "stdout",
     "output_type": "stream",
     "text": [
      "[0.01, 0.02, 0.03, 0.04, 0.05, 0.06, 0.07, 0.08, 0.09, 0.1, 0.11, 0.12, 0.13, 0.14, 0.15, 0.16, 0.17, 0.18, 0.19, 0.2, 0.21, 0.22, 0.23, 0.24, 0.25, 0.26, 0.27, 0.28, 0.29, 0.3, 0.31, 0.32, 0.33, 0.34, 0.35000000000000003, 0.36, 0.37, 0.38, 0.39, 0.4, 0.41000000000000003, 0.42, 0.43, 0.44, 0.45, 0.46, 0.47000000000000003, 0.48, 0.49, 0.5, 0.51, 0.52, 0.53, 0.54, 0.55, 0.56, 0.5700000000000001, 0.58, 0.59, 0.6, 0.61, 0.62, 0.63, 0.64, 0.65, 0.66, 0.67, 0.68, 0.6900000000000001, 0.7000000000000001, 0.71, 0.72, 0.73, 0.74, 0.75, 0.76, 0.77, 0.78, 0.79, 0.8, 0.81, 0.8200000000000001, 0.8300000000000001, 0.84, 0.85, 0.86, 0.87, 0.88, 0.89, 0.9, 0.91, 0.92, 0.93, 0.9400000000000001, 0.9500000000000001, 0.96, 0.97, 0.98, 0.99, 1.0]\n"
     ]
    }
   ],
   "source": [
    "for i in range(0,100):\n",
    "    y[i]=x[i]*0.01\n",
    "print y"
   ]
  },
  {
   "cell_type": "code",
   "execution_count": 44,
   "metadata": {},
   "outputs": [
    {
     "name": "stdout",
     "output_type": "stream",
     "text": [
      "[]\n"
     ]
    }
   ],
   "source": [
    "print lines"
   ]
  },
  {
   "cell_type": "code",
   "execution_count": 77,
   "metadata": {},
   "outputs": [
    {
     "name": "stdout",
     "output_type": "stream",
     "text": [
      "friction_broadening_width 0.01\n",
      "\n",
      "friction_broadening_width 0.02\n",
      "\n",
      "friction_broadening_width 0.03\n",
      "\n",
      "friction_broadening_width 0.04\n",
      "\n",
      "friction_broadening_width 0.05\n",
      "\n",
      "friction_broadening_width 0.06\n",
      "\n",
      "friction_broadening_width 0.07\n",
      "\n",
      "friction_broadening_width 0.08\n",
      "\n",
      "friction_broadening_width 0.09\n",
      "\n",
      "friction_broadening_width 0.1\n",
      "\n",
      "friction_broadening_width 0.11\n",
      "\n",
      "friction_broadening_width 0.12\n",
      "\n",
      "friction_broadening_width 0.13\n",
      "\n",
      "friction_broadening_width 0.14\n",
      "\n",
      "friction_broadening_width 0.15\n",
      "\n",
      "friction_broadening_width 0.16\n",
      "\n",
      "friction_broadening_width 0.17\n",
      "\n",
      "friction_broadening_width 0.18\n",
      "\n",
      "friction_broadening_width 0.19\n",
      "\n",
      "friction_broadening_width 0.2\n",
      "\n",
      "friction_broadening_width 0.21\n",
      "\n",
      "friction_broadening_width 0.22\n",
      "\n",
      "friction_broadening_width 0.23\n",
      "\n",
      "friction_broadening_width 0.24\n",
      "\n",
      "friction_broadening_width 0.25\n",
      "\n",
      "friction_broadening_width 0.26\n",
      "\n",
      "friction_broadening_width 0.27\n",
      "\n",
      "friction_broadening_width 0.28\n",
      "\n",
      "friction_broadening_width 0.29\n",
      "\n",
      "friction_broadening_width 0.3\n",
      "\n",
      "friction_broadening_width 0.31\n",
      "\n",
      "friction_broadening_width 0.32\n",
      "\n",
      "friction_broadening_width 0.33\n",
      "\n",
      "friction_broadening_width 0.34\n",
      "\n",
      "friction_broadening_width 0.35\n",
      "\n",
      "friction_broadening_width 0.36\n",
      "\n",
      "friction_broadening_width 0.37\n",
      "\n",
      "friction_broadening_width 0.38\n",
      "\n",
      "friction_broadening_width 0.39\n",
      "\n",
      "friction_broadening_width 0.4\n",
      "\n",
      "friction_broadening_width 0.41\n",
      "\n",
      "friction_broadening_width 0.42\n",
      "\n",
      "friction_broadening_width 0.43\n",
      "\n",
      "friction_broadening_width 0.44\n",
      "\n",
      "friction_broadening_width 0.45\n",
      "\n",
      "friction_broadening_width 0.46\n",
      "\n",
      "friction_broadening_width 0.47\n",
      "\n",
      "friction_broadening_width 0.48\n",
      "\n",
      "friction_broadening_width 0.49\n",
      "\n",
      "friction_broadening_width 0.5\n",
      "\n",
      "friction_broadening_width 0.51\n",
      "\n",
      "friction_broadening_width 0.52\n",
      "\n",
      "friction_broadening_width 0.53\n",
      "\n",
      "friction_broadening_width 0.54\n",
      "\n",
      "friction_broadening_width 0.55\n",
      "\n",
      "friction_broadening_width 0.56\n",
      "\n",
      "friction_broadening_width 0.57\n",
      "\n",
      "friction_broadening_width 0.58\n",
      "\n",
      "friction_broadening_width 0.59\n",
      "\n",
      "friction_broadening_width 0.6\n",
      "\n",
      "friction_broadening_width 0.61\n",
      "\n",
      "friction_broadening_width 0.62\n",
      "\n",
      "friction_broadening_width 0.63\n",
      "\n",
      "friction_broadening_width 0.64\n",
      "\n",
      "friction_broadening_width 0.65\n",
      "\n",
      "friction_broadening_width 0.66\n",
      "\n",
      "friction_broadening_width 0.67\n",
      "\n",
      "friction_broadening_width 0.68\n",
      "\n",
      "friction_broadening_width 0.69\n",
      "\n",
      "friction_broadening_width 0.7\n",
      "\n",
      "friction_broadening_width 0.71\n",
      "\n",
      "friction_broadening_width 0.72\n",
      "\n",
      "friction_broadening_width 0.73\n",
      "\n",
      "friction_broadening_width 0.74\n",
      "\n",
      "friction_broadening_width 0.75\n",
      "\n",
      "friction_broadening_width 0.76\n",
      "\n",
      "friction_broadening_width 0.77\n",
      "\n",
      "friction_broadening_width 0.78\n",
      "\n",
      "friction_broadening_width 0.79\n",
      "\n",
      "friction_broadening_width 0.8\n",
      "\n",
      "friction_broadening_width 0.81\n",
      "\n",
      "friction_broadening_width 0.82\n",
      "\n",
      "friction_broadening_width 0.83\n",
      "\n",
      "friction_broadening_width 0.84\n",
      "\n",
      "friction_broadening_width 0.85\n",
      "\n",
      "friction_broadening_width 0.86\n",
      "\n",
      "friction_broadening_width 0.87\n",
      "\n",
      "friction_broadening_width 0.88\n",
      "\n",
      "friction_broadening_width 0.89\n",
      "\n",
      "friction_broadening_width 0.9\n",
      "\n",
      "friction_broadening_width 0.91\n",
      "\n",
      "friction_broadening_width 0.92\n",
      "\n",
      "friction_broadening_width 0.93\n",
      "\n",
      "friction_broadening_width 0.94\n",
      "\n",
      "friction_broadening_width 0.95\n",
      "\n",
      "friction_broadening_width 0.96\n",
      "\n",
      "friction_broadening_width 0.97\n",
      "\n",
      "friction_broadening_width 0.98\n",
      "\n",
      "friction_broadening_width 0.99\n",
      "\n",
      "friction_broadening_width 1.0\n",
      "\n"
     ]
    }
   ],
   "source": [
    "with open('control.in', 'r') as f:\n",
    "    lines = f.readlines()\n",
    "f.close()\n",
    "for l, line in enumerate(lines):\n",
    "    if 'friction_broadening_width 0.6' in line:\n",
    "        for i in range(0,100):\n",
    "            line = 'friction_broadening_width ' + str(y[i]) + '\\n'\n",
    "            lines[29]=line \n",
    "            print line\n",
    "            if not os.path.exists(str(y[i])):\n",
    "                os.makedirs(str(y[i]))\n",
    "                out = open('./' + str(y[i]) + '/control.in', \"w\")\n",
    "                out.writelines(lines)\n"
   ]
  },
  {
   "cell_type": "code",
   "execution_count": null,
   "metadata": {},
   "outputs": [],
   "source": []
  },
  {
   "cell_type": "code",
   "execution_count": null,
   "metadata": {},
   "outputs": [],
   "source": []
  }
 ],
 "metadata": {
  "kernelspec": {
   "display_name": "Python 2",
   "language": "python",
   "name": "python2"
  },
  "language_info": {
   "codemirror_mode": {
    "name": "ipython",
    "version": 2
   },
   "file_extension": ".py",
   "mimetype": "text/x-python",
   "name": "python",
   "nbconvert_exporter": "python",
   "pygments_lexer": "ipython2",
   "version": "2.7.15"
  }
 },
 "nbformat": 4,
 "nbformat_minor": 2
}
